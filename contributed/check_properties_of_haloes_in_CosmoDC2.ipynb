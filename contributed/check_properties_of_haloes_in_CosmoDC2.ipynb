{
 "cells": [
  {
   "cell_type": "code",
   "execution_count": null,
   "metadata": {},
   "outputs": [],
   "source": [
    "#written by Marina Ricci\n",
    "\n",
    "#purposes: handling cosmoDC2 DESC catalog and investigating the properties of galaxy clusters \n",
    "# (defined as halos with M_halo>1e14 Msol)\n",
    "\n",
    "\n"
   ]
  },
  {
   "cell_type": "markdown",
   "metadata": {},
   "source": [
    "### Purpose of this notebook: \n",
    "Objects in mock catalogs have to be representative of the their true population. In this context, this notebook aims at testing some basic statistical properties of galaxies belonging to clusters (arbitrarly defined here as halos with friend of friend mass > 10^14 Msol). The properties tested are : the mass/redshift distribution, the \"richness\"/mass relation, the density profile, the luminosity function and the color magnitude diagrams. These are the main intrinsic properties that drive cluster detection in the optical/NIR. "
   ]
  },
  {
   "cell_type": "code",
   "execution_count": null,
   "metadata": {},
   "outputs": [],
   "source": [
    "import numpy as np\n",
    "from matplotlib import pyplot as plt\n",
    "import GCRCatalogs\n",
    "from GCR import GCRQuery\n",
    "from astropy.cosmology import FlatLambdaCDM\n",
    "import astropy.units as u\n",
    "from scipy.stats import normaltest\n",
    "import matplotlib.colors as clr\n",
    "%matplotlib inline"
   ]
  },
  {
   "cell_type": "markdown",
   "metadata": {},
   "source": [
    "## - Handling the catalog"
   ]
  },
  {
   "cell_type": "code",
   "execution_count": null,
   "metadata": {},
   "outputs": [],
   "source": [
    "# see all available catalogs\n",
    "print(sorted(GCRCatalogs.get_available_catalogs(False)))"
   ]
  },
  {
   "cell_type": "code",
   "execution_count": null,
   "metadata": {},
   "outputs": [],
   "source": [
    "# load a calalog\n",
    "catalog1 = GCRCatalogs.load_catalog('cosmoDC2_v1.1.4_small')\n",
    "\n",
    "#print catalog info\n",
    "print(catalog1.get_catalog_info())"
   ]
  },
  {
   "cell_type": "code",
   "execution_count": null,
   "metadata": {},
   "outputs": [],
   "source": [
    "#define same cosmological parameters as the catalog\n",
    "cosmo = FlatLambdaCDM(H0=71, Om0=0.2648, Ob0=0.0448) #not 100% sure it is the same cosmo as in the simu"
   ]
  },
  {
   "cell_type": "code",
   "execution_count": null,
   "metadata": {},
   "outputs": [],
   "source": [
    "# print all available quantities in the catalog\n",
    "print(sorted(catalog1.list_all_quantities()))"
   ]
  },
  {
   "cell_type": "markdown",
   "metadata": {},
   "source": [
    "## - Selection of halos with Mass >1e14 (referred to as clusters in the following) in the selected sub-sample"
   ]
  },
  {
   "cell_type": "code",
   "execution_count": null,
   "metadata": {},
   "outputs": [],
   "source": [
    "# load quantities of interest (may take a few minutes)\n",
    "cluster_data = catalog1.get_quantities(['ra', 'dec','redshift','halo_mass', 'halo_id','is_central','mag_r_lsst','mag_i_lsst','mag_Y_lsst','Mag_true_u_lsst_z0','Mag_true_g_lsst_z0','Mag_true_i_lsst_z0'], filters=['halo_mass > 10**(14)'])"
   ]
  },
  {
   "cell_type": "markdown",
   "metadata": {},
   "source": [
    "## - Number of clusters in the catalog"
   ]
  },
  {
   "cell_type": "code",
   "execution_count": null,
   "metadata": {},
   "outputs": [],
   "source": [
    "is_central = (cluster_data['is_central'])\n",
    "print (\"Number of clusters: \", np.sum(is_central))"
   ]
  },
  {
   "cell_type": "markdown",
   "metadata": {},
   "source": [
    "# 1 - Ra-dec distribution of the clusters"
   ]
  },
  {
   "cell_type": "code",
   "execution_count": null,
   "metadata": {},
   "outputs": [],
   "source": [
    "plt.figure()\n",
    "plt.plot(cluster_data['ra'],cluster_data['dec'],'c.',alpha=0.5,label='satellites')\n",
    "plt.plot(cluster_data['ra'][is_central],cluster_data['dec'][is_central],'k.',label='centrals')\n",
    "plt.legend(loc=3)\n",
    "plt.xlabel('RA')\n",
    "plt.ylabel('Dec.');"
   ]
  },
  {
   "cell_type": "markdown",
   "metadata": {},
   "source": [
    "# 2 - Cluster mass-redshift distribution"
   ]
  },
  {
   "cell_type": "code",
   "execution_count": null,
   "metadata": {},
   "outputs": [],
   "source": [
    "plt.figure()\n",
    "plt.plot(cluster_data['redshift'][is_central],cluster_data['halo_mass'][is_central],'k.')\n",
    "plt.yscale('log')\n",
    "plt.xlabel('z')\n",
    "plt.ylabel('$M_{h}$ ($M_\\odot$)');"
   ]
  },
  {
   "cell_type": "code",
   "execution_count": null,
   "metadata": {},
   "outputs": [],
   "source": [
    "#number of clusters per redshift unit in the 54 degrees of the simulation (+ Poissonian error bars)\n",
    "\n",
    "dndz_hist = np.histogram(cluster_data['redshift'][is_central],bins=25,range=[0,2.5])\n",
    "zbin_size = (dndz_hist[1][1]-dndz_hist[1][0])\n",
    "zbin_center = dndz_hist[1][:-1]+zbin_size/2.\n",
    "\n",
    "plt.figure()\n",
    "plt.errorbar(zbin_center,dndz_hist[0]/zbin_size,yerr=np.sqrt(dndz_hist[0])/zbin_size) \n",
    "plt.xlabel('z')\n",
    "plt.ylabel('dn/dz');"
   ]
  },
  {
   "cell_type": "code",
   "execution_count": null,
   "metadata": {},
   "outputs": [],
   "source": [
    "#number of clusters per mass unit in the 54 degrees of the simulation (+ Poissonian error bars), beetween z=0 and z=3\n",
    "\n",
    "dndM_hist = np.histogram(np.log10(cluster_data['halo_mass'][is_central]),bins=20,range=[14,15])\n",
    "Mbin_size = (dndM_hist[1][1]-dndM_hist[1][0])\n",
    "Mbin_center = dndM_hist[1][:-1]+Mbin_size/2.\n",
    "\n",
    "plt.figure()\n",
    "plt.errorbar(Mbin_center,dndM_hist[0]/Mbin_size,yerr=np.sqrt(dndM_hist[0])/Mbin_size) \n",
    "plt.xlabel('$M_{h}$ ($M_{\\odot}$)')\n",
    "plt.ylabel('dn/dM');\n",
    "plt.yscale('log')\n",
    "plt.ylim(10,5e3)"
   ]
  },
  {
   "cell_type": "markdown",
   "metadata": {},
   "source": [
    "### The shape of the distributions looks OK, but more work is needed to compare to expectations (work in progress)"
   ]
  },
  {
   "cell_type": "markdown",
   "metadata": {},
   "source": [
    "# 3 - Number of member galaxies as a function of halo mass"
   ]
  },
  {
   "cell_type": "code",
   "execution_count": null,
   "metadata": {},
   "outputs": [],
   "source": [
    "#compute the number of galaxies associated to each halo\n",
    "\n",
    "ngal = np.zeros(np.sum(is_central))\n",
    "for i in range(np.sum(is_central)):\n",
    "    ngal[i] = ((GCRQuery('halo_id == {}'.format(cluster_data['halo_id'][is_central][i])).filter(cluster_data))['redshift']).size"
   ]
  },
  {
   "cell_type": "code",
   "execution_count": null,
   "metadata": {},
   "outputs": [],
   "source": [
    "#plot the number of associated galaxy as a function of halo mass, color-coded by redshift\n",
    "\n",
    "plt.figure()\n",
    "plt.title('Number of FoF members vs FoF halo mass')\n",
    "plt.scatter(cluster_data['halo_mass'][is_central],ngal,c=cluster_data['redshift'][is_central],s=40,cmap='jet',vmax=1.5)\n",
    "clb = plt.colorbar()\n",
    "clb.set_label('z')\n",
    "plt.yscale('log')\n",
    "plt.xscale('log')\n",
    "plt.xlabel('$M_{h} (M_{\\odot})$')\n",
    "plt.ylabel('$N_{gal}$');\n",
    "\n",
    "#add an arbitrary power law with slope = 1 for vizualisation purpose\n",
    "x = 10**np.linspace(14,15,10)\n",
    "Ampl,slope = 1./1e12, 1.0\n",
    "plt.plot(x,Ampl*x**(slope),'k--',alpha=0.5,label='$N_{gal}\\propto M_{h}$ relation')\n",
    "plt.legend()"
   ]
  },
  {
   "cell_type": "code",
   "execution_count": null,
   "metadata": {},
   "outputs": [],
   "source": [
    "#compute the number of galaxies associated to each halo, within a projected radius \"rmax\"\n",
    "\n",
    "dist_to_central_Mpc_list = []\n",
    "rmax=0.75 #Mpc (arbitrary value)\n",
    "\n",
    "ngal_rmax = np.zeros(np.sum(is_central))\n",
    "\n",
    "for i in range(np.sum(is_central)):\n",
    "    halo = cluster_data['halo_id'][is_central][i]\n",
    "    #definition of the coordinates and redshift of the central galaxy of each halo\n",
    "    ra_ref = cluster_data['ra'][is_central][i]\n",
    "    dec_ref = cluster_data['dec'][is_central][i]\n",
    "    z_ref = cluster_data['redshift'][is_central][i]   \n",
    "    #compute the distance to the central galaxy for each galaxy belonging to a halo, in degree\n",
    "    dist_to_central_deg =  (np.sqrt((cluster_data['ra'][(cluster_data['halo_id']==halo)]-ra_ref)**2+(cluster_data['dec'][(cluster_data['halo_id']==halo)]-dec_ref)**2))\n",
    "    #convert the distance to Mpc\n",
    "    dist_to_central_Mpc = cosmo.kpc_proper_per_arcmin(z_ref).value*(dist_to_central_deg)*60./1e3\n",
    "    dist_to_central_Mpc_list.append(dist_to_central_Mpc) #(needed for section 5)\n",
    "    #count the number of member galaxies within a projected radius \"rmax\"\n",
    "    ngal_rmax[i] = np.sum(dist_to_central_Mpc<rmax)\n",
    "  "
   ]
  },
  {
   "cell_type": "code",
   "execution_count": null,
   "metadata": {},
   "outputs": [],
   "source": [
    "plt.figure()\n",
    "plt.scatter(cluster_data['halo_mass'][is_central],ngal_rmax,c=cluster_data['redshift'][is_central],s=40,cmap='jet',vmax=1.5)\n",
    "clb=plt.colorbar()\n",
    "clb.set_label('z')\n",
    "plt.yscale('log')\n",
    "plt.xscale('log')\n",
    "plt.title('Number of FoF members within r='+str(rmax)+'Mpc vs FoF halo mass')\n",
    "plt.xlabel('$M_{h} (M_{\\odot})$')\n",
    "plt.ylabel('$N_{gal}$ (r<'+str(rmax)+'Mpc)');\n",
    "\n",
    "\n",
    "#add an arbitrary power law with slope = 1 for vizualisation purpose\n",
    "plt.plot(x,Ampl*x**(slope),'k--',alpha=0.5,label='$N_{gal}\\propto M_{h}$ relation')\n",
    "plt.legend()"
   ]
  },
  {
   "cell_type": "markdown",
   "metadata": {},
   "source": [
    "### To have a more representative richness-mass relation we would need to apply an apparent magnitude cut following some model\n",
    "### It would be great to have physical masses and radius"
   ]
  },
  {
   "cell_type": "markdown",
   "metadata": {},
   "source": [
    "# 5 - Galaxy projected density profiles in clusters "
   ]
  },
  {
   "cell_type": "code",
   "execution_count": null,
   "metadata": {},
   "outputs": [],
   "source": [
    "#define the mass/redshift conditions of halos in each bin\n",
    "zM_bin = [(cluster_data['redshift'][is_central]<0.5)*(cluster_data['halo_mass'][is_central]<1.5e14),\\\n",
    "        (cluster_data['redshift'][is_central]>0.5)*(cluster_data['redshift'][is_central]<1)*(cluster_data['halo_mass'][is_central]<1.5e14),\\\n",
    "        (cluster_data['redshift'][is_central]>1.0)*(cluster_data['redshift'][is_central]<1.5)*(cluster_data['halo_mass'][is_central]<1.5e14),\\\n",
    "        (cluster_data['redshift'][is_central]<0.5)*(cluster_data['halo_mass'][is_central]>2e14)*(cluster_data['halo_mass'][is_central]<3e14),\\\n",
    "        (cluster_data['redshift'][is_central]>0.5)*(cluster_data['redshift'][is_central]<1)*(cluster_data['halo_mass'][is_central]>2e14)*(cluster_data['halo_mass'][is_central]<3e14),\\\n",
    "       ]\n",
    "\n",
    "Nclus_per_bin = np.sum(np.array(zM_bin),axis=1)\n",
    "print (\"Number of clusters in each bin\", Nclus_per_bin)"
   ]
  },
  {
   "cell_type": "code",
   "execution_count": null,
   "metadata": {},
   "outputs": [],
   "source": [
    "#compute the composite projected density profiles in each mass/z bin\n",
    "\n",
    "dist_Mpc_per_bin = [[],[],[],[],[]]\n",
    "for i in range(5):\n",
    "    dist_Mpc_per_bin[i] = np.hstack(np.array(dist_to_central_Mpc_list)[zM_bin[i]]) # we use the distances computed in section 4\n",
    "\n",
    "#compute the histogram of the galaxy distances, excluding the centrals, for each bin\n",
    "hist_dist_bin0=np.histogram(dist_Mpc_per_bin[0][dist_Mpc_per_bin[0]>0],bins=100,range=[0,7])\n",
    "hist_dist_bin1=np.histogram(dist_Mpc_per_bin[1][dist_Mpc_per_bin[1]>0],bins=100,range=[0,7])\n",
    "hist_dist_bin2=np.histogram(dist_Mpc_per_bin[2][dist_Mpc_per_bin[2]>0],bins=100,range=[0,7])\n",
    "hist_dist_bin3=np.histogram(dist_Mpc_per_bin[3][dist_Mpc_per_bin[3]>0],bins=100,range=[0,7])\n",
    "hist_dist_bin4=np.histogram(dist_Mpc_per_bin[4][dist_Mpc_per_bin[4]>0],bins=100,range=[0,7])\n",
    "\n",
    "dist_bin_center = 0.5*(hist_dist_bin0[1][1]-hist_dist_bin0[1][0])+hist_dist_bin0[1][0:-1]"
   ]
  },
  {
   "cell_type": "code",
   "execution_count": null,
   "metadata": {},
   "outputs": [],
   "source": [
    "#plot the composite projected density profiles (the mean galaxy density per cluster in units of Mpc**2)\n",
    "\n",
    "plt.figure()\n",
    "plt.title('cluster projected density profiles \\n at different redshift (for $M_{h}<1.5x10^{14}M_\\odot$)')\n",
    "plt.plot(dist_bin_center,hist_dist_bin0[0]/(Nclus_per_bin[0]*3.14*dist_bin_center**2),'b',label = 'z<0.5')\n",
    "plt.plot(dist_bin_center,hist_dist_bin1[0]/(Nclus_per_bin[1]*3.14*dist_bin_center**2),'c',label = '0.5<z<1.0')\n",
    "plt.plot(dist_bin_center,hist_dist_bin2[0]/(Nclus_per_bin[2]*3.14*dist_bin_center**2),'r',label = '1.0<z<1.5')\n",
    "# to add errorbars (negeligeable)\n",
    "#plt.errorbar(bin_center,hist_dist_bin0[0]/(Nclus_per_bin[0]*3.14*dist_bin_center**2),yerr=np.sqrt(hist_dist_bin0[0])/(Nclus_per_bin[0]*3.14*dist_bin_center**2)) \n",
    "plt.yscale('log')\n",
    "plt.xscale('log')\n",
    "plt.ylabel('<$\\Sigma_{gal}$> ($Mpc^{-2}$)');\n",
    "plt.xlabel('r (Mpc)');\n",
    "plt.ylim(0.00001,1e4)\n",
    "plt.xlim(0.03,6)\n",
    "plt.legend(frameon =False)\n",
    "\n",
    "plt.figure()\n",
    "plt.title('cluster projected density profiles \\n at different masses for 2 redshift bins')\n",
    "plt.plot(dist_bin_center,hist_dist_bin0[0]/(Nclus_per_bin[0]*3.14*dist_bin_center**2),'b',label = 'z<0.5 & $M_{h}<1.5x10^{14}M_\\odot$')\n",
    "plt.plot(dist_bin_center,hist_dist_bin0[0]/(Nclus_per_bin[3]*3.14*dist_bin_center**2),'b--',label = 'z<0.5 & $(2<M_{h}<3)x10^{14}M_\\odot$')\n",
    "plt.plot(dist_bin_center,hist_dist_bin0[0]/(Nclus_per_bin[1]*3.14*dist_bin_center**2),'c',label = '0.5<z<0.1 & $M_{h}<1.5x10^{14}M_\\odot$')\n",
    "plt.plot(dist_bin_center,hist_dist_bin0[0]/(Nclus_per_bin[4]*3.14*dist_bin_center**2),'c--',label = '0.5<z<0.1 & $(2<M_{h}<3)x10^{14}M_\\odot$')\n",
    "plt.yscale('log')\n",
    "plt.xscale('log')\n",
    "plt.ylabel('<$\\Sigma_{gal}$> ($Mpc^{-2}$)');\n",
    "plt.xlabel('r (Mpc)');\n",
    "plt.ylim(0.00001,1e4)\n",
    "plt.xlim(0.03,6)\n",
    "plt.legend(loc='lower left',frameon =False)"
   ]
  },
  {
   "cell_type": "markdown",
   "metadata": {},
   "source": [
    "### At first sight does not look like NFW (or maybe truncated...), but more investigation is needed\n",
    "### Signal up to r~2-3Mpc\n",
    "### Concentration seems to increase with redshift at fixed mass and amplitude seems to increase with mass at fixed redshift"
   ]
  },
  {
   "cell_type": "markdown",
   "metadata": {},
   "source": [
    "# 6 - Galaxy luminosity functions in clusters "
   ]
  },
  {
   "cell_type": "code",
   "execution_count": null,
   "metadata": {},
   "outputs": [],
   "source": [
    "#Magnitude as a function of redshift for central and satellite galaxies\n",
    "\n",
    "plt.figure()\n",
    "plt.plot(cluster_data['redshift'],cluster_data['mag_i_lsst'],'c.',alpha=0.05,label='satellites')\n",
    "plt.plot(cluster_data['redshift'][is_central],cluster_data['mag_i_lsst'][is_central],'k.',label='centrals')\n",
    "\n",
    "plt.legend(loc=4)\n",
    "plt.xlabel('z')\n",
    "plt.ylabel('mag i');\n"
   ]
  },
  {
   "cell_type": "markdown",
   "metadata": {},
   "source": [
    "### *Why is there no faint galaxies in haloes at low redshift? The same is true for galaxies outside of haloes. See https://github.com/LSSTDESC/DC2-analysis/issues/48*"
   ]
  },
  {
   "cell_type": "code",
   "execution_count": null,
   "metadata": {},
   "outputs": [],
   "source": [
    "#define the mass/redshift conditions of halos in each bin\n",
    "\n",
    "zM_bin_LF = [(cluster_data['redshift']>0.25)*(cluster_data['redshift']<0.35)*(cluster_data['halo_mass']<1.5e14),\\\n",
    "        (cluster_data['redshift']>0.55)*(cluster_data['redshift']<0.65)*(cluster_data['halo_mass']<1.5e14),\\\n",
    "        (cluster_data['redshift']>0.90)*(cluster_data['redshift']<1.1)*(cluster_data['halo_mass']<1.5e14),\\\n",
    "        (cluster_data['redshift']>1.30)*(cluster_data['redshift']<1.6)*(cluster_data['halo_mass']<1.5e14)]\n",
    "\n",
    "halo_list_LF = [cluster_data['halo_id'][is_central*zM_bin_LF[0]],cluster_data['halo_id'][is_central*zM_bin_LF[1]],cluster_data['halo_id'][is_central*zM_bin_LF[2]],cluster_data['halo_id'][is_central*zM_bin_LF[3]]]    \n",
    "Nclus_per_bin_LF = [len(halo_list_LF[0]),len(halo_list_LF[1]),len(halo_list_LF[2]),len(halo_list_LF[3])]\n",
    "\n",
    "print (\"Number of clusters in each bin\", Nclus_per_bin_LF)"
   ]
  },
  {
   "cell_type": "code",
   "execution_count": null,
   "metadata": {},
   "outputs": [],
   "source": [
    "#compute the composite projected luminosity function of stallites in each bin, in apparent magnitude\n",
    "\n",
    "hist_mag_app_bin0 = np.histogram(cluster_data['mag_i_lsst'][zM_bin_LF[0]*(~is_central)],bins=30,range=[15,30])\n",
    "hist_mag_app_bin1 = np.histogram(cluster_data['mag_i_lsst'][zM_bin_LF[1]*(~is_central)],bins=30,range=[15,30])\n",
    "hist_mag_app_bin2 = np.histogram(cluster_data['mag_i_lsst'][zM_bin_LF[2]*(~is_central)],bins=30,range=[15,30])\n",
    "hist_mag_app_bin3 = np.histogram(cluster_data['mag_i_lsst'][zM_bin_LF[3]*(~is_central)],bins=30,range=[15,30])\n",
    "\n",
    "LF_mapp_bin_center = 0.5*(hist_mag_app_bin0[1][1]-hist_mag_app_bin0[1][0])+hist_mag_app_bin0[1][0:-1]\n",
    "LF_mapp_bin_size = LF_mapp_bin_center[1]-LF_mapp_bin_center[0]"
   ]
  },
  {
   "cell_type": "code",
   "execution_count": null,
   "metadata": {},
   "outputs": [],
   "source": [
    "plt.figure()\n",
    "plt.title('cluster LF at different redshift (for $M_{h}<1.5x10^{14}M_\\odot$)')\n",
    "\n",
    "plt.plot(LF_mapp_bin_center,LF_mapp_bin_size*hist_mag_app_bin0[0]/(Nclus_per_bin_LF[0]),'b.-',label = '0.25<z<0.35')\n",
    "plt.plot(LF_mapp_bin_center,LF_mapp_bin_size*hist_mag_app_bin1[0]/(Nclus_per_bin_LF[1]),'c.-',label = '0.55<z<0.65')\n",
    "plt.plot(LF_mapp_bin_center,LF_mapp_bin_size*hist_mag_app_bin2[0]/(Nclus_per_bin_LF[2]),'r.-',label = '0.90<z<1.10')\n",
    "plt.plot(LF_mapp_bin_center,LF_mapp_bin_size*hist_mag_app_bin3[0]/(Nclus_per_bin_LF[3]),'m.-',label = '1.30<z<1.60')\n",
    "\n",
    "plt.yscale('log')\n",
    "plt.ylabel('<Ngal> (mag$^{-1}$)');\n",
    "plt.xlabel('i-band app mag');\n",
    "plt.legend(frameon =False)\n",
    "plt.ylim(0.01,20)\n",
    "plt.xlim(14,30);"
   ]
  },
  {
   "cell_type": "markdown",
   "metadata": {},
   "source": [
    "### *Sharp unphysical decline in the LF at mag fainter than i = ~24 * \n",
    "### *At very first sight, LF seem OK for galaxies brighter than i ~ 24 (with a shape similar to a double Schechter function), but need more investigation* "
   ]
  },
  {
   "cell_type": "code",
   "execution_count": null,
   "metadata": {},
   "outputs": [],
   "source": [
    "#compute the composite projected luminosity function of satellites in each bin, in absolute magnitude\n",
    "\n",
    "hist_mag_abs_bin0 = np.histogram(cluster_data['Mag_true_i_lsst_z0'][zM_bin_LF[0]*(~is_central)],bins=30,range=[-24.5,-13.5])\n",
    "hist_mag_abs_bin1 = np.histogram(cluster_data['Mag_true_i_lsst_z0'][zM_bin_LF[1]*(~is_central)],bins=30,range=[-24.5,-13.5])\n",
    "hist_mag_abs_bin2 = np.histogram(cluster_data['Mag_true_i_lsst_z0'][zM_bin_LF[2]*(~is_central)],bins=30,range=[-24.5,-13.5])\n",
    "hist_mag_abs_bin3 = np.histogram(cluster_data['Mag_true_i_lsst_z0'][zM_bin_LF[3]*(~is_central)],bins=30,range=[-24.5,-13.5])\n",
    "\n",
    "LF_mabs_bin_center = 0.5*(hist_mag_abs_bin0[1][1]-hist_mag_abs_bin0[1][0])+hist_mag_abs_bin0[1][0:-1]\n",
    "LF_mabs_bin_size = LF_mabs_bin_center[1]-LF_mabs_bin_center[0]"
   ]
  },
  {
   "cell_type": "code",
   "execution_count": null,
   "metadata": {},
   "outputs": [],
   "source": [
    "plt.figure()\n",
    "plt.title('cluster LF at different redshift (for $M_{h}<1.5x10^{14}M_\\odot$)')\n",
    "\n",
    "plt.plot(LF_mabs_bin_center,LF_mabs_bin_size*hist_mag_abs_bin0[0]/(Nclus_per_bin_LF[0]),'b.-',label = '0.25<z<0.35')\n",
    "plt.plot(LF_mabs_bin_center,LF_mabs_bin_size*hist_mag_abs_bin1[0]/(Nclus_per_bin_LF[1]),'c.-',label = '0.55<z<0.65')\n",
    "plt.plot(LF_mabs_bin_center,LF_mabs_bin_size*hist_mag_abs_bin2[0]/(Nclus_per_bin_LF[2]),'r.-',label = '0.90<z<1.10')\n",
    "plt.plot(LF_mabs_bin_center,LF_mabs_bin_size*hist_mag_abs_bin3[0]/(Nclus_per_bin_LF[3]),'m.-',label = '1.30<z<1.60')\n",
    "\n",
    "plt.yscale('log')\n",
    "plt.ylabel('<Ngal> (mag$^{-1}$)');\n",
    "plt.xlabel('i-band abs mag');\n",
    "plt.legend(frameon =False)\n",
    "plt.ylim(0.01,20)"
   ]
  },
  {
   "cell_type": "markdown",
   "metadata": {},
   "source": [
    "### *Sharp unexpected decline in the LF at mag fainter than i = ~-18 * \n",
    "### *At very first sight, LF seem OK for galaxies brighter than i ~ -20 (with a shape similar to a double Schechter function), but need more investigation* "
   ]
  },
  {
   "cell_type": "code",
   "execution_count": null,
   "metadata": {},
   "outputs": [],
   "source": [
    "#test if the galaxy luminosity distribution of central galaxies is gaussian, as expected (test the null hypothesis that the distribution is normal)\n",
    "\n",
    "print ('test in apparent mag')\n",
    "print (normaltest(cluster_data['mag_i_lsst'][zM_bin_LF[0]*(is_central)]))\n",
    "print (normaltest(cluster_data['mag_i_lsst'][zM_bin_LF[1]*(is_central)]))\n",
    "print (normaltest(cluster_data['mag_i_lsst'][zM_bin_LF[2]*(is_central)]))\n",
    "print (normaltest(cluster_data['mag_i_lsst'][zM_bin_LF[3]*(is_central)]))\n",
    "\n",
    "\n",
    "print ('test in absolute mag')\n",
    "print (normaltest(cluster_data['Mag_true_i_lsst_z0'][zM_bin_LF[0]*(is_central)]))\n",
    "print (normaltest(cluster_data['Mag_true_i_lsst_z0'][zM_bin_LF[1]*(is_central)]))\n",
    "print (normaltest(cluster_data['Mag_true_i_lsst_z0'][zM_bin_LF[2]*(is_central)]))\n",
    "print (normaltest(cluster_data['Mag_true_i_lsst_z0'][zM_bin_LF[3]*(is_central)]))\n"
   ]
  },
  {
   "cell_type": "markdown",
   "metadata": {},
   "source": [
    "### *Central galaxy luminosity distribution are compatible with being gaussians (as expected)*"
   ]
  },
  {
   "cell_type": "markdown",
   "metadata": {},
   "source": [
    "# 7 - Color-magnitude diagrams in clusters"
   ]
  },
  {
   "cell_type": "code",
   "execution_count": null,
   "metadata": {},
   "outputs": [],
   "source": [
    "#plot the rest frame color magnitude diagram for all galaxies in clusters\n",
    "#the density of satellites galaxies is shown in blue and the centrals are shownbythe red dots\n",
    "\n",
    "plt.hist2d(cluster_data['Mag_true_g_lsst_z0'],cluster_data['Mag_true_u_lsst_z0']-cluster_data['Mag_true_g_lsst_z0'], bins=50, cmap='PuBu',norm=clr.LogNorm(),label = 'satellites');\n",
    "plt.plot(cluster_data['Mag_true_g_lsst_z0'][is_central],cluster_data['Mag_true_u_lsst_z0'][is_central]-cluster_data['Mag_true_g_lsst_z0'][is_central],'r.',alpha=0.1,label = 'centrals')\n",
    "\n",
    "plt.xlabel('$M_{g}$')\n",
    "plt.ylabel('$M_{u}-M_{g}$');\n",
    "plt.legend()"
   ]
  },
  {
   "cell_type": "code",
   "execution_count": null,
   "metadata": {},
   "outputs": [],
   "source": [
    "#plot the rest frame color magnitude diagram of memeber galaxies for clusters in different redshift bins\n",
    "#the density of satellites galaxies is shown in blue and the centrals are shownbythe red dots\n",
    "\n",
    "label = ['0.25<z<0.35','0.55<z<0.65','0.90<z<1.10','1.30<z<1.60']\n",
    "\n",
    "for i in range(4):\n",
    "    plt.subplot(2, 2, i+1)\n",
    "    plt.hist2d(cluster_data['Mag_true_g_lsst_z0'][zM_bin_LF[i]],cluster_data['Mag_true_u_lsst_z0'][zM_bin_LF[i]]-cluster_data['Mag_true_g_lsst_z0'][zM_bin_LF[i]], bins=50, cmap='PuBu',norm=clr.LogNorm());\n",
    "    plt.plot(cluster_data['Mag_true_g_lsst_z0'][zM_bin_LF[i]*is_central],cluster_data['Mag_true_u_lsst_z0'][zM_bin_LF[i]*is_central]-cluster_data['Mag_true_g_lsst_z0'][zM_bin_LF[i]*is_central],'r.',alpha=0.2)\n",
    "    plt.xlim(-24.5,-13)\n",
    "    plt.ylim(0,2)\n",
    "    plt.xlabel('$M_{g}$')\n",
    "    plt.ylabel('$M_{u}-M_{g}$');\n",
    "    plt.text(-22.5,1.7,label[i])\n",
    "    "
   ]
  },
  {
   "cell_type": "markdown",
   "metadata": {},
   "source": [
    "### *Looks a bit weird, not enough blue cloud galaxies/too much red sequence galaxies, especially at high redshift, need more investigation*\n",
    "### *Note some blue centrals, might causes centring issues*"
   ]
  }
 ],
 "metadata": {
  "kernelspec": {
   "display_name": "Python 3",
   "language": "python",
   "name": "python3"
  },
  "language_info": {
   "codemirror_mode": {
    "name": "ipython",
    "version": 3
   },
   "file_extension": ".py",
   "mimetype": "text/x-python",
   "name": "python",
   "nbconvert_exporter": "python",
   "pygments_lexer": "ipython3",
   "version": "3.6.3"
  }
 },
 "nbformat": 4,
 "nbformat_minor": 2
}
