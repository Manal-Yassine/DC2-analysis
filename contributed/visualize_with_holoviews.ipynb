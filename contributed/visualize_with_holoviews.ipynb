{
 "cells": [
  {
   "cell_type": "markdown",
   "metadata": {},
   "source": [
    "# Run 1.1p Object Tables with Dask+Holoviews\n",
    "<br>Owner: **Michael Wood-Vasey** ([@wmwv](https://github.com/LSSTDESC/DC2-analysis/issues/new?body=@wmwv))\n",
    "<br>Last Verified to Run: **2018-10-11**\n",
    "    \n",
    "* Demonstrate the use of the DPDD-style Object table in Parquet format. \n",
    "* Uses Dask+Holoviews+Datashader to demonstrate visualizing the entire dataset.\n",
    "\n",
    "Learning Objectives:\n",
    "After completing and studying this Notebook, a person should be able to\n",
    "1. Load a Parquet file with Dask.\n",
    "    - Understand that specifying the columns to select increasing performance.\n",
    "2. Make a plot using Holoviews\n",
    "3. Use Datashader to interactively rasterize a large dataset for display.\n",
    "\n",
    "Logistics:\n",
    "\n",
    "1. These tests were conducted on NERSC through the https://jupyter-dev.nersc.gov interface.\n",
    "\n",
    "2. Requires:\n",
    "```\n",
    "holoviews\n",
    "datashader\n",
    "bokeh\n",
    "```\n",
    "\n",
    "These were pip-installed locally with `--user`.\n",
    "\n",
    "3. This was run using a custom kernel specification\n",
    "`/global/homes/w/wmwv/.local/share/jupyter/kernels/desc-python-dask`\n",
    "  - This custom kernel specification was used to control the OMP_NUM_THREADS setting.\n",
    "  - Tests were run with `OMP_NUM_THREADS=4`, but I don't believe there's any real multi-threading.\n",
    "\n",
    "Current Status:\n",
    "* Quick demonstration for people who want to check out the Parquet file and learn.\n",
    "* Future work planned to demonstrate selection, brushing, and simple outlier identification.\n",
    "\n",
    "References:  \n",
    "    https://dask.org  \n",
    "    https://datashader.org  \n",
    "    https://parquet.apache.org  \n",
    "    https://holoviews.org  "
   ]
  },
  {
   "cell_type": "code",
   "execution_count": null,
   "metadata": {},
   "outputs": [],
   "source": [
    "import os\n",
    "\n",
    "import dask.dataframe as dd\n",
    "import datashader as ds\n",
    "import holoviews as hv\n",
    "from holoviews.operation.datashader import datashade, shade, dynspread, rasterize"
   ]
  },
  {
   "cell_type": "code",
   "execution_count": null,
   "metadata": {},
   "outputs": [],
   "source": [
    "hv.extension('bokeh')"
   ]
  },
  {
   "cell_type": "markdown",
   "metadata": {},
   "source": [
    "## Define and (lazy-)load our data"
   ]
  },
  {
   "cell_type": "code",
   "execution_count": null,
   "metadata": {},
   "outputs": [],
   "source": [
    "tract = 4850\n",
    "\n",
    "data_dir = '/global/projecta/projectdirs/lsst/global/in2p3/Run1.1/summary'\n",
    "\n",
    "datafile_tract = os.path.join(data_dir, 'dpdd_object_tract_%d.parquet' % tract)\n",
    "datafile_all = os.path.join(data_dir, 'dpdd_object.parquet')"
   ]
  },
  {
   "cell_type": "code",
   "execution_count": null,
   "metadata": {},
   "outputs": [],
   "source": [
    "# Switch between these to go from analyzing one tract ('datafile_tract'), which renders in seconds\n",
    "# to the entire set of 20 tracts ('datafile_all'), which renders in minutes.\n",
    "datafile = datafile_tract\n",
    "# datafile = datafile_all\n",
    "\n",
    "# Specify the columns we need.  This allows for significant performance advantages when reading a column-based storage format such as Parquet.\n",
    "df = dd.read_parquet(datafile, columns=['ra', 'dec', 'mag_g', 'mag_r', 'mag_i',\n",
    "                                        'magerr_g', 'magerr_r', 'magerr_i', 'extendedness'])"
   ]
  },
  {
   "cell_type": "code",
   "execution_count": null,
   "metadata": {},
   "outputs": [],
   "source": [
    "print(df.columns)"
   ]
  },
  {
   "cell_type": "markdown",
   "metadata": {},
   "source": [
    "## Clean and Create Color Columns"
   ]
  },
  {
   "cell_type": "code",
   "execution_count": null,
   "metadata": {},
   "outputs": [],
   "source": [
    "# Clean\n",
    "snr_magerr_threshold = 0.3  # mag\n",
    "df = df[(df.magerr_g < snr_magerr_threshold) & (df.magerr_r < snr_magerr_threshold) & (df.magerr_i < snr_magerr_threshold)]"
   ]
  },
  {
   "cell_type": "code",
   "execution_count": null,
   "metadata": {},
   "outputs": [],
   "source": [
    "df['g-r'] = df['mag_g'] - df['mag_r']\n",
    "df['r-i'] = df['mag_r'] - df['mag_i']"
   ]
  },
  {
   "cell_type": "code",
   "execution_count": null,
   "metadata": {},
   "outputs": [],
   "source": [
    "gal = df[(df.extendedness > 0.95)]\n",
    "star = df[(df.extendedness < 0.95)]"
   ]
  },
  {
   "cell_type": "markdown",
   "metadata": {},
   "source": [
    "## Create HoloViews `Points` objects and Wrap with Datashader\n",
    "\n",
    "Create for position, magnitude and color.  Use datashader to provide rasterized images that display in finite time but are still zoomable and will re-raster at different sizes."
   ]
  },
  {
   "cell_type": "code",
   "execution_count": null,
   "metadata": {},
   "outputs": [],
   "source": [
    "points_ra_dec = hv.Points(df, kdims=['ra', 'dec'], vdims=['g-r'])\n",
    "ra_dec = datashade(points_ra_dec, aggregator=ds.mean('g-r'))"
   ]
  },
  {
   "cell_type": "code",
   "execution_count": null,
   "metadata": {},
   "outputs": [],
   "source": [
    "points_mag_magerr = hv.Points(df, kdims=[hv.Dimension('mag_g', soft_range=(14, 28)),\n",
    "                                         'magerr_g'])\n",
    "mag_magerr = datashade(points_mag_magerr)"
   ]
  },
  {
   "cell_type": "code",
   "execution_count": null,
   "metadata": {},
   "outputs": [],
   "source": [
    "points_color_mag = hv.Points(df, kdims=[hv.Dimension('g-r', soft_range=(-2, 3)),\n",
    "                                        hv.Dimension('mag_g', soft_range=(28, 14))])\n",
    "color_mag = datashade(points_color_mag)"
   ]
  },
  {
   "cell_type": "code",
   "execution_count": null,
   "metadata": {},
   "outputs": [],
   "source": [
    "points_color_color = hv.Points(df, kdims=[hv.Dimension('g-r', soft_range=(-2, 3)),\n",
    "                                          hv.Dimension('r-i', soft_range=(-2, 3))])\n",
    "# color_color = datashade(points_color_color.hist(dimension=['g-r', 'r-i']))\n",
    "color_color = datashade(points_color_color)"
   ]
  },
  {
   "cell_type": "markdown",
   "metadata": {},
   "source": [
    "In Holoviews one uses the `+` operator to put these three different visualizations next to each other."
   ]
  },
  {
   "cell_type": "code",
   "execution_count": null,
   "metadata": {},
   "outputs": [],
   "source": [
    "ra_dec + color_mag + color_color"
   ]
  },
  {
   "cell_type": "markdown",
   "metadata": {},
   "source": [
    "The color-magnitude and color-color plots will zoom together.  This based on the ranges of the dimensions; it's not subsetting the points in the view.\n",
    "\n",
    "No I don't know how to reverse the magnitude axis so that brighter is up.  I spent an hour trying to figure that out."
   ]
  },
  {
   "cell_type": "markdown",
   "metadata": {},
   "source": [
    "## Datashade Multiple Sets"
   ]
  },
  {
   "cell_type": "markdown",
   "metadata": {},
   "source": [
    "Show separate by `extendedness` parameter.  Note that `extendedness` is pretty conservative with a high false negative at faint magnitudes."
   ]
  },
  {
   "cell_type": "code",
   "execution_count": null,
   "metadata": {},
   "outputs": [],
   "source": [
    "gal_mag_magerr = hv.Points(gal, kdims=[hv.Dimension('mag_g', soft_range=(14, 28)),\n",
    "                                       'magerr_g'])\n",
    "gal_color_mag = hv.Points(gal, kdims=[hv.Dimension('g-r', soft_range=(-2, 3)),\n",
    "                                      hv.Dimension('mag_g', soft_range=(28, 14))])\n",
    "gal_color_color = hv.Points(gal, kdims=[hv.Dimension('g-r', soft_range=(-2, 3)),\n",
    "                                        hv.Dimension('r-i', soft_range=(-2, 3))])\n",
    "\n",
    "star_mag_magerr = hv.Points(star, kdims=[hv.Dimension('mag_g', soft_range=(14, 28)),\n",
    "                                         'magerr_g'])\n",
    "star_color_mag = hv.Points(star, kdims=[hv.Dimension('g-r', soft_range=(-2, 3)),\n",
    "                                        hv.Dimension('mag_g', soft_range=(28, 14))])\n",
    "star_color_color = hv.Points(star, kdims=[hv.Dimension('g-r', soft_range=(-2, 3)),\n",
    "                                          hv.Dimension('r-i', soft_range=(-2, 3))])\n",
    "\n",
    "typed_mag_magerr = {'gal': gal_mag_magerr, 'star': star_mag_magerr}\n",
    "typed_color_mag = {'gal': gal_color_mag, 'star': star_color_mag}\n",
    "typed_color_color = {'gal': gal_color_color, 'star': star_color_color}\n",
    "\n",
    "shaded_mag_magerr = datashade(hv.NdOverlay(typed_mag_magerr, kdims='type'),\n",
    "                              aggregator=ds.count_cat('type'))\n",
    "shaded_color_mag = datashade(hv.NdOverlay(typed_color_mag, kdims='type'),\n",
    "                             aggregator=ds.count_cat('type'))\n",
    "shaded_color_color = datashade(hv.NdOverlay(typed_color_color, kdims='type'),\n",
    "                               aggregator=ds.count_cat('type'))"
   ]
  },
  {
   "cell_type": "code",
   "execution_count": null,
   "metadata": {},
   "outputs": [],
   "source": [
    "shaded_mag_magerr + shaded_color_mag + shaded_color_color"
   ]
  },
  {
   "cell_type": "markdown",
   "metadata": {},
   "source": [
    "The galaxies are red, while the \"stars\" (== not obviously extended) are blue.\n",
    "\n",
    "Zoom in to mag - magerr plot to see the outlying cluster of higher uncertainties as a function of magnitude are galaxies."
   ]
  },
  {
   "cell_type": "markdown",
   "metadata": {},
   "source": [
    "Note:  \n",
    "Constructing a legend for the above is unfortunately a little unobvious and awkward.  We lost the information when we datashaded the NdOverlay.  You could do it by creating a new set of empty NdOverlay object to get the colors. \n",
    "\n",
    "This is relying on the fact that the above commands used the default color map.  \n",
    "Explicitly specifying the color above would have been better.\n",
    "```\n",
    "from datashader.colors import Sets1to3 # default datashade() and shade() color cycle\n",
    "color_key = {k: Sets1to3[i] for i, k in enumerate(typed_color_mag)}\n",
    "color_points = hv.NdOverlay({k: hv.Points([gal['g-r'][0], gal['mag_g'][0]],\n",
    "                                          label=str(k)).options(color=v) for k, v in color_key.items()})\n",
    "                                          \n",
    "shaded_color_mag * color_points + shaded_color_color * color_points\n",
    "```\n",
    "\n",
    "Above code adapted from http://holoviews.org/user_guide/Large_Data.html"
   ]
  },
  {
   "cell_type": "markdown",
   "metadata": {},
   "source": [
    "## Use hover-over aggregation\n",
    "\n",
    "We can set up a dynamic hover-over that gives information about the local area.  In this case we're just doing a count of the number of points in a given rectangular region.\n",
    "\n",
    "Note the use of the `*` to compose the results of `datashade` and `hv.util.Dynamic`.  This is the idiom in Holoviews to combine several different visualizations/tools."
   ]
  },
  {
   "cell_type": "code",
   "execution_count": null,
   "metadata": {},
   "outputs": [],
   "source": [
    "from holoviews.streams import RangeXY\n",
    "\n",
    "# A funnily-named wrapper function to generate hover-overs by count.\n",
    "def dynamate(points, width=400, height=400, nx=10, ny=10):\n",
    "    \"\"\"Datashades points at width, height.  Hover-over in dynamic boxes of nx x ny at given display size\"\"\"\n",
    "    datashaded_points = datashade(points, width=width, height=height)\n",
    "    hover_over_count = \\\n",
    "        hv.util.Dynamic(rasterize(points_mag_magerr, width=nx, height=ny, streams=[RangeXY]),\n",
    "                        operation=hv.QuadMesh)\n",
    "    return datashaded_points * hover_over_count"
   ]
  },
  {
   "cell_type": "code",
   "execution_count": null,
   "metadata": {},
   "outputs": [],
   "source": [
    "%%opts QuadMesh [tools=['hover']] (alpha=0 hover_alpha=0.2)\n",
    "dynamic_mag_magerr = dynamate(points_mag_magerr)\n",
    "dynamic_color_mag = dynamate(points_color_mag)\n",
    "dynamic_color_color = dynamate(points_color_color)"
   ]
  },
  {
   "cell_type": "code",
   "execution_count": null,
   "metadata": {},
   "outputs": [],
   "source": [
    "dynamic_mag_magerr + dynamic_color_mag + dynamic_color_color"
   ]
  },
  {
   "cell_type": "code",
   "execution_count": null,
   "metadata": {},
   "outputs": [],
   "source": [
    "len(df)"
   ]
  },
  {
   "cell_type": "code",
   "execution_count": null,
   "metadata": {},
   "outputs": [],
   "source": [
    "hv.help(color_mag)"
   ]
  },
  {
   "cell_type": "code",
   "execution_count": null,
   "metadata": {},
   "outputs": [],
   "source": []
  }
 ],
 "metadata": {
  "kernelspec": {
   "display_name": "desc-python-dask",
   "language": "python",
   "name": "desc-python-dask"
  },
  "language_info": {
   "codemirror_mode": {
    "name": "ipython",
    "version": 3
   },
   "file_extension": ".py",
   "mimetype": "text/x-python",
   "name": "python",
   "nbconvert_exporter": "python",
   "pygments_lexer": "ipython3",
   "version": "3.6.2"
  }
 },
 "nbformat": 4,
 "nbformat_minor": 2
}
